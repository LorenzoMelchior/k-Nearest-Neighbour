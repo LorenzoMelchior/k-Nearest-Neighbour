{
 "cells": [
  {
   "cell_type": "markdown",
   "metadata": {},
   "source": [
    "# The k-Nearest-Neighbour Algorithm\n",
    "## on the zip code dataset from the U.S. Postal Service\n",
    "\n",
    "### Lorenzo Melchior"
   ]
  },
  {
   "cell_type": "code",
   "execution_count": 2,
   "metadata": {},
   "outputs": [],
   "source": [
    "import numpy as np\n",
    "import pandas as pd\n",
    "import matplotlib.pyplot as plt\n",
    "%matplotlib inline"
   ]
  },
  {
   "cell_type": "code",
   "execution_count": 3,
   "metadata": {},
   "outputs": [],
   "source": [
    "X = np.array(pd.read_csv('zip.train', sep=' ', header=None).drop(columns=[0,257]))\n",
    "y = np.array(pd.read_csv('zip.train', sep=' ', header=None)[0]).astype(np.int32)\n",
    "X_test = np.array(pd.read_csv('zip.test', sep=' ', header=None).drop(columns=0))\n",
    "y_test = np.array(pd.read_csv('zip.test', sep=' ', header=None)[0])"
   ]
  },
  {
   "cell_type": "code",
   "execution_count": 15,
   "metadata": {},
   "outputs": [],
   "source": [
    "def euklidean_distance(a, b):\n",
    "    '''\n",
    "    Calculates the euklidean Distance of two numpy arrays of the same size\n",
    "    '''\n",
    "    return np.sqrt(((a - b) ** 2).sum())"
   ]
  },
  {
   "cell_type": "code",
   "execution_count": 5,
   "metadata": {},
   "outputs": [],
   "source": [
    "def highest_occurence(array):\n",
    "    '''\n",
    "    Searches the most frequent element in a numpy array\n",
    "    '''\n",
    "    counts = np.bincount(array)\n",
    "    return np.argmax(counts)"
   ]
  },
  {
   "cell_type": "code",
   "execution_count": 58,
   "metadata": {},
   "outputs": [],
   "source": [
    "class KNN:\n",
    "    '''\n",
    "    Class for the k-Nearest-Neighbour Classifier. Usage:\n",
    "    classifier = KNN\n",
    "    classifier.fit(X,y)\n",
    "    classifier.predict(X_test, y_test)\n",
    "    \n",
    "    The results will be stored in the classifier attributes\n",
    "    '''\n",
    "    \n",
    "    confusion_matrix = np.zeros((10,10), dtype=np.int32)\n",
    "    wrong_predictions = 0\n",
    "    wrong_predicated_indices = []\n",
    "    \n",
    "    def fit(self, X, y):\n",
    "        self.X = X\n",
    "        self.y = y\n",
    "        \n",
    "    def predict(self, X_test, y_test, k):\n",
    "        \n",
    "        self.X_test = X_test\n",
    "        self.y_test = y_test\n",
    "           \n",
    "        for index, xt in enumerate(self.X_test):\n",
    "            \n",
    "            k_predictions = np.argsort([euklidean_distance(xt, x) for x in X])[:k]\n",
    "            predicted_digit = highest_occurence(k_predictions)\n",
    "            self.confusion_matrix[y_test[index]][y[predicted_digit]] += 1\n",
    "            \n",
    "            if y_test[index] != y[predicted_digit]:\n",
    "                self.wrong_predictions += 1\n",
    "                self.wrong_predicated_indices.append(index)\n",
    "    \n",
    "            index += 1"
   ]
  },
  {
   "cell_type": "code",
   "execution_count": 64,
   "metadata": {},
   "outputs": [],
   "source": [
    "classifier = KNN()"
   ]
  },
  {
   "cell_type": "code",
   "execution_count": 65,
   "metadata": {},
   "outputs": [],
   "source": [
    "classifier.fit(X, y)"
   ]
  },
  {
   "cell_type": "markdown",
   "metadata": {},
   "source": [
    "## We classify with $k=3$"
   ]
  },
  {
   "cell_type": "code",
   "execution_count": 66,
   "metadata": {},
   "outputs": [],
   "source": [
    "classifier.predict(X_test, y_test, k=3)"
   ]
  },
  {
   "cell_type": "markdown",
   "metadata": {},
   "source": [
    "### The results shown in a counfusion matrix"
   ]
  },
  {
   "cell_type": "code",
   "execution_count": 67,
   "metadata": {},
   "outputs": [
    {
     "data": {
      "text/plain": [
       "array([[355,   0,   2,   0,   0,   0,   0,   1,   0,   1],\n",
       "       [  0, 258,   0,   0,   4,   0,   1,   1,   0,   0],\n",
       "       [  6,   1, 178,   2,   0,   0,   1,   3,   7,   0],\n",
       "       [  2,   0,   3, 148,   0,  11,   0,   1,   0,   1],\n",
       "       [  0,   3,   1,   0, 180,   1,   2,   4,   0,   9],\n",
       "       [  3,   1,   2,   4,   0, 147,   1,   0,   1,   1],\n",
       "       [  5,   1,   2,   0,   1,   0, 161,   0,   0,   0],\n",
       "       [  0,   1,   1,   1,   3,   0,   0, 136,   1,   4],\n",
       "       [  5,   0,   1,   5,   0,   3,   0,   1, 148,   3],\n",
       "       [  1,   0,   0,   0,   3,   1,   0,   4,   0, 168]], dtype=int32)"
      ]
     },
     "execution_count": 67,
     "metadata": {},
     "output_type": "execute_result"
    }
   ],
   "source": [
    "classifier.confusion_matrix"
   ]
  },
  {
   "cell_type": "markdown",
   "metadata": {},
   "source": [
    "## The accuracy of the classifier on our tranings dataset in percent"
   ]
  },
  {
   "cell_type": "code",
   "execution_count": 57,
   "metadata": {},
   "outputs": [
    {
     "data": {
      "text/plain": [
       "93.62232187344294"
      ]
     },
     "execution_count": 57,
     "metadata": {},
     "output_type": "execute_result"
    }
   ],
   "source": [
    "(1-classifier.wrong_predictions / y_test.shape[0])*100"
   ]
  },
  {
   "cell_type": "markdown",
   "metadata": {},
   "source": [
    "## Some of the wrong predicted digits:"
   ]
  },
  {
   "cell_type": "code",
   "execution_count": 81,
   "metadata": {},
   "outputs": [
    {
     "data": {
      "image/png": "[encoded data removed]",
      "text/plain": [
       "<Figure size 1440x432 with 30 Axes>"
      ]
     },
     "metadata": {
      "needs_background": "light"
     },
     "output_type": "display_data"
    }
   ],
   "source": [
    "indices = np.random.choice(range(len(classifier.X)), 30)\n",
    "sample_digits = classifier.X[classifier.wrong_predicated_indices]\n",
    "\n",
    "fig = plt.figure(figsize=(20, 6))\n",
    "\n",
    "for i in range(num_samples):\n",
    "    ax = plt.subplot(6, 15, i + 1)\n",
    "    img = sample_digits[i].reshape((16, 16))\n",
    "    plt.imshow(img, cmap='gray_r')\n",
    "    plt.axis('off')"
   ]
  }
 ],
 "metadata": {
  "kernelspec": {
   "display_name": "Python 3",
   "language": "python",
   "name": "python3"
  },
  "language_info": {
   "codemirror_mode": {
    "name": "ipython",
    "version": 3
   },
   "file_extension": ".py",
   "mimetype": "text/x-python",
   "name": "python",
   "nbconvert_exporter": "python",
   "pygments_lexer": "ipython3",
   "version": "3.6.6"
  }
 },
 "nbformat": 4,
 "nbformat_minor": 2
}
